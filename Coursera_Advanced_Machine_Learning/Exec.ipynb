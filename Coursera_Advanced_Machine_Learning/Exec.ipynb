{
 "cells": [
  {
   "cell_type": "code",
   "execution_count": 10,
   "metadata": {},
   "outputs": [
    {
     "name": "stdout",
     "output_type": "stream",
     "text": [
      "Hello world\n",
      "Is it over yet?\n"
     ]
    }
   ],
   "source": [
    "def do_stuff():\n",
    "    print (\"Hello world\")\n",
    "    return \"Is it over yet?\"\n",
    "    print (\"Goodbye cruel world!\")\n",
    "\n",
    "print (do_stuff())"
   ]
  },
  {
   "cell_type": "code",
   "execution_count": 12,
   "metadata": {},
   "outputs": [],
   "source": [
    "def fun(n):\n",
    "    result1 = ((n-n%10)/10)%10\n",
    "    result2 = (n-n%10)/10\n",
    "    result3 = (n%100-n%10)/10\n",
    "    print (\"result1=\",result1)\n",
    "    print (\"result2=\",result2)\n",
    "    print (\"result3=\",result3)"
   ]
  },
  {
   "cell_type": "code",
   "execution_count": 14,
   "metadata": {},
   "outputs": [
    {
     "name": "stdout",
     "output_type": "stream",
     "text": [
      "result1= 5.0\n",
      "result2= 15.0\n",
      "result3= 5.0\n"
     ]
    }
   ],
   "source": [
    "fun(153)"
   ]
  },
  {
   "cell_type": "code",
   "execution_count": 28,
   "metadata": {},
   "outputs": [
    {
     "name": "stdout",
     "output_type": "stream",
     "text": [
      "5\n",
      "2\n"
     ]
    }
   ],
   "source": [
    "import random\n",
    "\n",
    "print (random.randint(0,10))\n",
    "print (random.randrange(0,10))"
   ]
  },
  {
   "cell_type": "code",
   "execution_count": 31,
   "metadata": {},
   "outputs": [],
   "source": [
    "def fun_cal(x):\n",
    "    result = -5*x**5+69*x**2-47\n",
    "    return (result)"
   ]
  },
  {
   "cell_type": "code",
   "execution_count": 39,
   "metadata": {},
   "outputs": [
    {
     "name": "stdout",
     "output_type": "stream",
     "text": [
      "0 -47\n",
      "1 17\n",
      "2 69\n",
      "3 -641\n"
     ]
    }
   ],
   "source": [
    "for i in range(4):\n",
    "    print (i, fun_cal(i))"
   ]
  },
  {
   "cell_type": "code",
   "execution_count": 44,
   "metadata": {},
   "outputs": [
    {
     "name": "stdout",
     "output_type": "stream",
     "text": [
      "$1000 at 2% compounded daily for 3 years yields $ 1061.8348011259045\n"
     ]
    }
   ],
   "source": [
    "def future_value(present_value, annual_rate, periods_per_year, years):\n",
    "    rate_per_period = annual_rate / periods_per_year\n",
    "    periods = periods_per_year * years\n",
    "\n",
    "    # Put your code here.\n",
    "    \n",
    "    FV = present_value*(1+rate_per_period)**periods\n",
    "    return (FV)\n",
    "\n",
    "print (\"$1000 at 2% compounded daily for 3 years yields $\", future_value(1000, .02, 365, 3))"
   ]
  },
  {
   "cell_type": "code",
   "execution_count": 49,
   "metadata": {},
   "outputs": [
    {
     "data": {
      "text/plain": [
       "32.705211996014306"
      ]
     },
     "execution_count": 49,
     "metadata": {},
     "output_type": "execute_result"
    }
   ],
   "source": [
    "import math\n",
    "def polygon(n,s):\n",
    "    return (n*s**2/(4*math.tan(math.pi/n)))\n",
    "\n",
    "polygon(7,3)"
   ]
  },
  {
   "cell_type": "code",
   "execution_count": 51,
   "metadata": {},
   "outputs": [],
   "source": [
    "def max_of_2(a, b):\n",
    "    if a > b:\n",
    "        return a\n",
    "    else:\n",
    "        return b\n",
    "\n",
    "def max_of_3(a, b, c):\n",
    "    return max_of_2(a, max_of_2(b, c))"
   ]
  },
  {
   "cell_type": "code",
   "execution_count": 58,
   "metadata": {},
   "outputs": [
    {
     "name": "stdout",
     "output_type": "stream",
     "text": [
      "1.0988845115895123 3.846095790563293\n"
     ]
    }
   ],
   "source": [
    "def project_to_distance(point_x, point_y, distance):\n",
    "    dist_to_origin = math.sqrt(point_x ** 2 + point_y ** 2)\n",
    "    scale = distance / dist_to_origin\n",
    "    print (point_x * scale, point_y * scale)\n",
    "\n",
    "project_to_distance(2, 7, 4)"
   ]
  },
  {
   "cell_type": "code",
   "execution_count": null,
   "metadata": {},
   "outputs": [],
   "source": []
  }
 ],
 "metadata": {
  "kernelspec": {
   "display_name": "Python 3",
   "language": "python",
   "name": "python3"
  },
  "language_info": {
   "codemirror_mode": {
    "name": "ipython",
    "version": 3
   },
   "file_extension": ".py",
   "mimetype": "text/x-python",
   "name": "python",
   "nbconvert_exporter": "python",
   "pygments_lexer": "ipython3",
   "version": "3.6.4"
  }
 },
 "nbformat": 4,
 "nbformat_minor": 2
}
