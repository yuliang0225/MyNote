{
 "cells": [
  {
   "cell_type": "markdown",
   "metadata": {},
   "source": [
    "# my1stNN"
   ]
  },
  {
   "cell_type": "markdown",
   "metadata": {},
   "source": [
    "## Goals:\n",
    "\n",
    "- Code a deep (with at least 1 hidden layer) neural network in tensorflow\n",
    "\n",
    "- Fit it on the train dataset, estimate quality on the test dataset\n",
    "\n",
    "- Plot the train loss and test loss as a function of the training iteration number\n",
    "\n",
    "### Long description\n",
    "\n",
    "Your ultimate task for this part is to build your first neural network [almost] from scratch and pure tensorflow. This time you will have the same digit recognition problem as for the logistic regression assignment, but at a larger scale:\n",
    "\n",
    "- images are now 28x28\n",
    "\n",
    "- 10 different digits\n",
    "\n",
    "- 50k samples\n",
    "\n",
    "Note that you are not required to build 152-layer monsters here. A 2-layer (one hidden, one output) NN should already have an edge over logistic regression.\n",
    "\n",
    "[bonus score] If you've already beaten logistic regression with a two-layer net, but enthusiasm still ain't gone, you can try improving the test accuracy even further! The milestones would be 95%/97.5%/98.5% accuracy on the test set.\n",
    "\n",
    "Please use the preprocessed_mnist.py in week2 folder to load the data:"
   ]
  },
  {
   "cell_type": "markdown",
   "metadata": {},
   "source": [
    "## SPOILERS!\n",
    "\n",
    "### Recommended pipeline:\n",
    "\n",
    "- Begin with logistic regression from the previous assignment to classify some number against others (e.g. zero vs nonzero)\n",
    "\n",
    "- Generalize it to multiclass logistic regression. Either try to remember the week 1 lectures or google it.\n",
    "- Instead of a weights vector you'll have to use a matrix with `shape=(features, classes)`\n",
    "- softmax (exp over sum of exps) can implemented manually or as `tf.nn.softmax`\n",
    "- probably better to use STOCHASTIC gradient descent (minibatch)\n",
    "- in which case sample should probably be shuffled (or use random subsamples on each iteration)\n",
    "\n",
    "### Add a hidden layer. Now your logistic regression uses hidden neurons instead of inputs.\n",
    "\n",
    "- Hidden layer uses the same math as output layer (ex-logistic regression), but uses some nonlinearity (sigmoid) instead of softmax\n",
    "- You need to train both layers, not just output layer :)\n",
    "- Do not initialize layers with zeros (due to symmetry effects). A gaussian noize with small sigma will do.\n",
    "- 50 hidden neurons and a sigmoid nonlinearity will do for a start. Many ways to improve here.\n",
    "- In an ideal case this totals to 2 .dot's, 1 softmax and 1 sigmoid\n"
   ]
  },
  {
   "cell_type": "markdown",
   "metadata": {},
   "source": [
    "### Load data"
   ]
  },
  {
   "cell_type": "code",
   "execution_count": 1,
   "metadata": {},
   "outputs": [
    {
     "name": "stderr",
     "output_type": "stream",
     "text": [
      "Using TensorFlow backend.\n"
     ]
    },
    {
     "name": "stdout",
     "output_type": "stream",
     "text": [
      "(50000, 28, 28) (50000,)\n"
     ]
    },
    {
     "data": {
      "image/png": "[encoded data removed]",
      "text/plain": [
       "<Figure size 432x288 with 1 Axes>"
      ]
     },
     "metadata": {},
     "output_type": "display_data"
    }
   ],
   "source": [
    "from preprocessed_mnist import load_dataset\n",
    "X_train, y_train, X_val, y_val, X_test, y_test = load_dataset()\n",
    "print(X_train.shape, y_train.shape)\n",
    "import matplotlib.pyplot as plt\n",
    "%matplotlib inline\n",
    "plt.imshow(X_train[0], cmap=\"Greys\");"
   ]
  },
  {
   "cell_type": "markdown",
   "metadata": {},
   "source": [
    "### Import package \n"
   ]
  },
  {
   "cell_type": "code",
   "execution_count": 2,
   "metadata": {},
   "outputs": [],
   "source": [
    "import numpy as np\n",
    "import tensorflow as tf\n"
   ]
  },
  {
   "cell_type": "markdown",
   "metadata": {},
   "source": [
    "### Shape of data"
   ]
  },
  {
   "cell_type": "code",
   "execution_count": 3,
   "metadata": {},
   "outputs": [
    {
     "name": "stdout",
     "output_type": "stream",
     "text": [
      "X_train: (50000, 28, 28)\n",
      "y_train: (50000,)\n",
      "X_val: (10000, 28, 28)\n",
      "y_val: (10000,)\n",
      "X_test: (10000, 28, 28)\n",
      "y_test: (10000,)\n"
     ]
    }
   ],
   "source": [
    "print('X_train:',X_train.shape)\n",
    "print('y_train:',y_train.shape)\n",
    "print('X_val:',X_val.shape)\n",
    "print('y_val:',y_val.shape)\n",
    "print('X_test:',X_test.shape)\n",
    "print('y_test:',y_test.shape)"
   ]
  },
  {
   "cell_type": "code",
   "execution_count": 4,
   "metadata": {
    "collapsed": true
   },
   "outputs": [],
   "source": [
    "# Set parameters\n",
    "node = 50\n",
    "n_val = 784\n",
    "n_y = 10"
   ]
  },
  {
   "cell_type": "code",
   "execution_count": 5,
   "metadata": {},
   "outputs": [],
   "source": [
    "# Reshape data\n",
    "X_trian_T = np.reshape(X_train,(X_train.shape[0],n_val))\n",
    "X_val_T = np.reshape(X_val,(X_val.shape[0],n_val))\n",
    "X_test_T = np.reshape(X_test,(X_test.shape[0],n_val))\n"
   ]
  },
  {
   "cell_type": "code",
   "execution_count": 6,
   "metadata": {},
   "outputs": [
    {
     "name": "stdout",
     "output_type": "stream",
     "text": [
      "(70000, 10)\n",
      "(50000, 10) (10000, 10) (10000, 10)\n"
     ]
    }
   ],
   "source": [
    "# One hot encode\n",
    "y_all = np.concatenate([y_train,y_val,y_test])\n",
    "\n",
    "ses_one_hot = tf.Session()\n",
    "tf_one_hot = tf.one_hot(y_all,n_y,1,0)  \n",
    "with tf.Session() as sess:  \n",
    "    sess.run(tf.global_variables_initializer())  \n",
    "    y_one_hot =sess.run(tf_one_hot)  \n",
    "print(y_one_hot.shape)\n",
    "# Check shape\n",
    "y_train_ot = y_one_hot[:50000,:]\n",
    "y_val_ot = y_one_hot[50000:60000,:]\n",
    "y_test_ot = y_one_hot[60000:70000,:]\n",
    "print(y_train_ot.shape,y_val_ot.shape,y_test_ot.shape)"
   ]
  },
  {
   "cell_type": "code",
   "execution_count": null,
   "metadata": {
    "collapsed": true
   },
   "outputs": [],
   "source": []
  },
  {
   "cell_type": "code",
   "execution_count": 11,
   "metadata": {},
   "outputs": [
    {
     "name": "stdout",
     "output_type": "stream",
     "text": [
      "Tensor(\"input_X_1:0\", shape=(?, 784), dtype=float32)\n",
      "Tensor(\"input_y_1:0\", shape=(?, 10), dtype=float32)\n"
     ]
    }
   ],
   "source": [
    "# Placeholders for the input data\n",
    "X_input = tf.placeholder(tf.float32, [None,n_val],name=\"input_X\")\n",
    "y_input = tf.placeholder(tf.float32, [None,n_y],name=\"input_y\")\n",
    "print (X_input)\n",
    "print (y_input)"
   ]
  },
  {
   "cell_type": "code",
   "execution_count": 12,
   "metadata": {},
   "outputs": [
    {
     "ename": "SyntaxError",
     "evalue": "unexpected EOF while parsing (<ipython-input-12-f7db1d7d7440>, line 20)",
     "output_type": "error",
     "traceback": [
      "\u001b[0;36m  File \u001b[0;32m\"<ipython-input-12-f7db1d7d7440>\"\u001b[0;36m, line \u001b[0;32m20\u001b[0m\n\u001b[0;31m    optimizer = tf.train.AdamOptimizer(learning_rate = learning_rate).minimize(loss\u001b[0m\n\u001b[0m                                                                                   ^\u001b[0m\n\u001b[0;31mSyntaxError\u001b[0m\u001b[0;31m:\u001b[0m unexpected EOF while parsing\n"
     ]
    }
   ],
   "source": [
    "# Set Model Parameters\n",
    "learning_rate = 0.01\n",
    "\n",
    "tf.set_random_seed(225)\n",
    "\n",
    "w1 = tf.get_variable(\"w1\", [n_val, node], dtype=\"float32\", initializer = tf.contrib.layers.xavier_initializer(seed = 225))\n",
    "\n",
    "w2 = tf.get_variable(\"w2\", [node, n_y], dtype=\"float32\", initializer = tf.contrib.layers.xavier_initializer(seed = 225))\n",
    "\n",
    "b1 = tf.get_variable(\"b1\", [1, node], dtype=\"float32\", initializer = tf.zeros_initializer())\n",
    "\n",
    "b2 = tf.get_variable(\"b2\", [1, 10], dtype=\"float32\", initializer = tf.zeros_initializer())\n",
    "\n",
    "hidden_out = tf.nn.sigmoid(tf.add(tf.matmul(X_input,w1), b1))\n",
    "\n",
    "predicted_y = tf.add(tf.matmul(hidden_out,w2),b2)\n",
    "\n",
    "loss = tf.reduce_mean(-tf.reduce_sum(y_input*tf.log(predicted_y), reduction_indices=[1]))\n",
    "\n",
    "optimizer = tf.train.AdamOptimizer(learning_rate = learning_rate).minimize(loss"
   ]
  },
  {
   "cell_type": "code",
   "execution_count": null,
   "metadata": {
    "collapsed": true
   },
   "outputs": [],
   "source": [
    "# "
   ]
  }
 ],
 "metadata": {
  "kernelspec": {
   "display_name": "Python 3",
   "language": "python",
   "name": "python3"
  },
  "language_info": {
   "codemirror_mode": {
    "name": "ipython",
    "version": 3
   },
   "file_extension": ".py",
   "mimetype": "text/x-python",
   "name": "python",
   "nbconvert_exporter": "python",
   "pygments_lexer": "ipython3",
   "version": "3.6.3"
  }
 },
 "nbformat": 4,
 "nbformat_minor": 2
}
